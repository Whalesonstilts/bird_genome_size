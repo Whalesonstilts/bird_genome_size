{
 "cells": [
  {
   "cell_type": "code",
   "execution_count": 45,
   "metadata": {
    "kernel": "python3"
   },
   "outputs": [],
   "source": []
  },
  {
   "cell_type": "code",
   "execution_count": 46,
   "metadata": {
    "kernel": "python3"
   },
   "outputs": [],
   "source": [
    "# importing the required modules \n",
    "import csv \n",
    "import requests \n",
    "import xml.etree.ElementTree as ET"
   ]
  },
  {
   "cell_type": "code",
   "execution_count": 47,
   "metadata": {
    "kernel": "python3"
   },
   "outputs": [],
   "source": [
    "# url of rss feed \n",
    "url = 'https://www.ebi.ac.uk/ena/data/view/GCA_000002315&display=xml'"
   ]
  },
  {
   "cell_type": "code",
   "execution_count": 48,
   "metadata": {
    "kernel": "python3"
   },
   "outputs": [],
   "source": [
    "# creating HTTP response object from given url \n",
    "resp = requests.get(url) "
   ]
  },
  {
   "cell_type": "code",
   "execution_count": 49,
   "metadata": {
    "kernel": "python3"
   },
   "outputs": [],
   "source": [
    "# saving the xml file \n",
    "with open('topnewsfeed.xml', 'wb') as f: \n",
    "    f.write(resp.content)"
   ]
  },
  {
   "cell_type": "code",
   "execution_count": 50,
   "metadata": {
    "kernel": "python3"
   },
   "outputs": [],
   "source": [
    "# create element tree object \n",
    "tree = ET.parse('topnewsfeed.xml') "
   ]
  },
  {
   "cell_type": "code",
   "execution_count": 51,
   "metadata": {
    "kernel": "python3"
   },
   "outputs": [],
   "source": [
    "# get root element \n",
    "root = tree.getroot() "
   ]
  },
  {
   "cell_type": "code",
   "execution_count": 52,
   "metadata": {
    "kernel": "python3",
    "scrolled": false
   },
   "outputs": [
    {
     "name": "stdout",
     "output_type": "stream",
     "text": [
      "ASSEMBLY {'accession': 'GCA_000002315.5', 'alias': 'GRCg6a', 'center_name': 'Genome Reference Consortium'}\n"
     ]
    }
   ],
   "source": [
    "for child in root:\n",
    "...     print(child.tag, child.attrib)"
   ]
  },
  {
   "cell_type": "code",
   "execution_count": 53,
   "metadata": {
    "kernel": "python3",
    "scrolled": false
   },
   "outputs": [
    {
     "name": "stdout",
     "output_type": "stream",
     "text": [
      "ROOT {'request': 'GCA_000002315&display=xml'}\n",
      "ASSEMBLY {'accession': 'GCA_000002315.5', 'alias': 'GRCg6a', 'center_name': 'Genome Reference Consortium'}\n",
      "IDENTIFIERS {}\n",
      "PRIMARY_ID {}\n",
      "SUBMITTER_ID {'namespace': 'Genome Reference Consortium'}\n",
      "TITLE {}\n",
      "DESCRIPTION {}\n",
      "NAME {}\n",
      "ASSEMBLY_LEVEL {}\n",
      "GENOME_REPRESENTATION {}\n",
      "TAXON {}\n",
      "TAXON_ID {}\n",
      "SCIENTIFIC_NAME {}\n",
      "COMMON_NAME {}\n",
      "SAMPLE_REF {}\n",
      "IDENTIFIERS {}\n",
      "PRIMARY_ID {}\n",
      "SECONDARY_ID {}\n",
      "STUDY_REF {}\n",
      "IDENTIFIERS {}\n",
      "PRIMARY_ID {}\n",
      "WGS_SET {}\n",
      "PREFIX {}\n",
      "VERSION {}\n",
      "CHROMOSOMES {}\n",
      "CHROMOSOME {'accession': 'CM000093.5'}\n",
      "NAME {}\n",
      "TYPE {}\n",
      "CHROMOSOME {'accession': 'CM000094.5'}\n",
      "NAME {}\n",
      "TYPE {}\n",
      "CHROMOSOME {'accession': 'CM000095.5'}\n",
      "NAME {}\n",
      "TYPE {}\n",
      "CHROMOSOME {'accession': 'CM000096.5'}\n",
      "NAME {}\n",
      "TYPE {}\n",
      "CHROMOSOME {'accession': 'CM000097.5'}\n",
      "NAME {}\n",
      "TYPE {}\n",
      "CHROMOSOME {'accession': 'CM000098.5'}\n",
      "NAME {}\n",
      "TYPE {}\n",
      "CHROMOSOME {'accession': 'CM000099.5'}\n",
      "NAME {}\n",
      "TYPE {}\n",
      "CHROMOSOME {'accession': 'CM000100.5'}\n",
      "NAME {}\n",
      "TYPE {}\n",
      "CHROMOSOME {'accession': 'CM000101.5'}\n",
      "NAME {}\n",
      "TYPE {}\n",
      "CHROMOSOME {'accession': 'CM000102.5'}\n",
      "NAME {}\n",
      "TYPE {}\n",
      "CHROMOSOME {'accession': 'CM000103.5'}\n",
      "NAME {}\n",
      "TYPE {}\n",
      "CHROMOSOME {'accession': 'CM000104.5'}\n",
      "NAME {}\n",
      "TYPE {}\n",
      "CHROMOSOME {'accession': 'CM000105.5'}\n",
      "NAME {}\n",
      "TYPE {}\n",
      "CHROMOSOME {'accession': 'CM000106.5'}\n",
      "NAME {}\n",
      "TYPE {}\n",
      "CHROMOSOME {'accession': 'CM000107.5'}\n",
      "NAME {}\n",
      "TYPE {}\n",
      "CHROMOSOME {'accession': 'CM000108.5'}\n",
      "NAME {}\n",
      "TYPE {}\n",
      "CHROMOSOME {'accession': 'CM000109.5'}\n",
      "NAME {}\n",
      "TYPE {}\n",
      "CHROMOSOME {'accession': 'CM000110.5'}\n",
      "NAME {}\n",
      "TYPE {}\n",
      "CHROMOSOME {'accession': 'CM000111.5'}\n",
      "NAME {}\n",
      "TYPE {}\n",
      "CHROMOSOME {'accession': 'CM000112.5'}\n",
      "NAME {}\n",
      "TYPE {}\n",
      "CHROMOSOME {'accession': 'CM000113.5'}\n",
      "NAME {}\n",
      "TYPE {}\n",
      "CHROMOSOME {'accession': 'CM000114.5'}\n",
      "NAME {}\n",
      "TYPE {}\n",
      "CHROMOSOME {'accession': 'CM000115.5'}\n",
      "NAME {}\n",
      "TYPE {}\n",
      "CHROMOSOME {'accession': 'CM000116.5'}\n",
      "NAME {}\n",
      "TYPE {}\n",
      "CHROMOSOME {'accession': 'CM000124.5'}\n",
      "NAME {}\n",
      "TYPE {}\n",
      "CHROMOSOME {'accession': 'CM000117.5'}\n",
      "NAME {}\n",
      "TYPE {}\n",
      "CHROMOSOME {'accession': 'CM000118.5'}\n",
      "NAME {}\n",
      "TYPE {}\n",
      "CHROMOSOME {'accession': 'CM000119.5'}\n",
      "NAME {}\n",
      "TYPE {}\n",
      "CHROMOSOME {'accession': 'CM003637.2'}\n",
      "NAME {}\n",
      "TYPE {}\n",
      "CHROMOSOME {'accession': 'CM003638.2'}\n",
      "NAME {}\n",
      "TYPE {}\n",
      "CHROMOSOME {'accession': 'CM000120.4'}\n",
      "NAME {}\n",
      "TYPE {}\n",
      "CHROMOSOME {'accession': 'CM000123.5'}\n",
      "NAME {}\n",
      "TYPE {}\n",
      "CHROMOSOME {'accession': 'CM000121.5'}\n",
      "NAME {}\n",
      "TYPE {}\n",
      "CHROMOSOME {'accession': 'CM000122.5'}\n",
      "NAME {}\n",
      "TYPE {}\n",
      "ASSEMBLY_LINKS {}\n",
      "ASSEMBLY_LINK {}\n",
      "URL_LINK {}\n",
      "LABEL {}\n",
      "URL {}\n",
      "ASSEMBLY_LINK {}\n",
      "URL_LINK {}\n",
      "LABEL {}\n",
      "URL {}\n",
      "ASSEMBLY_LINK {}\n",
      "URL_LINK {}\n",
      "LABEL {}\n",
      "URL {}\n",
      "ASSEMBLY_ATTRIBUTES {}\n",
      "ASSEMBLY_ATTRIBUTE {}\n",
      "TAG {}\n",
      "VALUE {}\n",
      "ASSEMBLY_ATTRIBUTE {}\n",
      "TAG {}\n",
      "VALUE {}\n",
      "ASSEMBLY_ATTRIBUTE {}\n",
      "TAG {}\n",
      "VALUE {}\n",
      "ASSEMBLY_ATTRIBUTE {}\n",
      "TAG {}\n",
      "VALUE {}\n",
      "ASSEMBLY_ATTRIBUTE {}\n",
      "TAG {}\n",
      "VALUE {}\n",
      "ASSEMBLY_ATTRIBUTE {}\n",
      "TAG {}\n",
      "VALUE {}\n",
      "ASSEMBLY_ATTRIBUTE {}\n",
      "TAG {}\n",
      "VALUE {}\n",
      "ASSEMBLY_ATTRIBUTE {}\n",
      "TAG {}\n",
      "VALUE {}\n",
      "ASSEMBLY_ATTRIBUTE {}\n",
      "TAG {}\n",
      "VALUE {}\n",
      "ASSEMBLY_ATTRIBUTE {}\n",
      "TAG {}\n",
      "VALUE {}\n",
      "ASSEMBLY_ATTRIBUTE {}\n",
      "TAG {}\n",
      "VALUE {}\n",
      "ASSEMBLY_ATTRIBUTE {}\n",
      "TAG {}\n",
      "VALUE {}\n",
      "ASSEMBLY_ATTRIBUTE {}\n",
      "TAG {}\n",
      "VALUE {}\n",
      "ASSEMBLY_ATTRIBUTE {}\n",
      "TAG {}\n",
      "VALUE {}\n",
      "ASSEMBLY_ATTRIBUTE {}\n",
      "TAG {}\n",
      "VALUE {}\n",
      "ASSEMBLY_ATTRIBUTE {}\n",
      "TAG {}\n",
      "VALUE {}\n",
      "ASSEMBLY_ATTRIBUTE {}\n",
      "TAG {}\n",
      "VALUE {}\n",
      "ASSEMBLY_ATTRIBUTE {}\n",
      "TAG {}\n",
      "VALUE {}\n",
      "ASSEMBLY_ATTRIBUTE {}\n",
      "TAG {}\n",
      "VALUE {}\n",
      "ASSEMBLY_ATTRIBUTE {}\n",
      "TAG {}\n",
      "VALUE {}\n"
     ]
    }
   ],
   "source": [
    "for child in root.iter():\n",
    "...     print(child.tag, child.attrib)"
   ]
  },
  {
   "cell_type": "code",
   "execution_count": null,
   "metadata": {
    "kernel": "python3"
   },
   "outputs": [],
   "source": []
  },
  {
   "cell_type": "code",
   "execution_count": 54,
   "metadata": {
    "kernel": "python3"
   },
   "outputs": [
    {
     "name": "stdout",
     "output_type": "stream",
     "text": [
      "[]\n",
      "GCA_000002315.5\n",
      "SAMN02981218\n",
      "PRJNA13342\n",
      "['GCA_000002315.5', 'SAMN02981218', 'PRJNA13342']\n",
      "GCA_000002315.5\n"
     ]
    },
    {
     "name": "stderr",
     "output_type": "stream",
     "text": [
      "/Users/cthillairajah17/anaconda3/lib/python3.7/site-packages/ipykernel_launcher.py:4: DeprecationWarning: This method will be removed in future versions.  Use 'list(elem)' or iteration over elem instead.\n",
      "  after removing the cwd from sys.path.\n"
     ]
    }
   ],
   "source": [
    "a=[]\n",
    "print(a)\n",
    "for node in tree.findall('.//IDENTIFIERS'):\n",
    "    for snode in node.getchildren():\n",
    "       # print(snode.tag, snode.text)\n",
    "        if snode.tag == \"PRIMARY_ID\":\n",
    "            print(snode.text)\n",
    "            a.append(snode.text)\n",
    "print(a)\n",
    "gcaid = a[0]\n",
    "print(gcaid)"
   ]
  },
  {
   "cell_type": "code",
   "execution_count": 56,
   "metadata": {
    "kernel": "python3",
    "scrolled": true
   },
   "outputs": [
    {
     "name": "stdout",
     "output_type": "stream",
     "text": [
      "total-length\n",
      "1065348650\n",
      "ungapped-length\n",
      "1055564190\n",
      "n50\n",
      "20785086\n",
      "spanned-gaps\n",
      "878\n",
      "unspanned-gaps\n",
      "68\n",
      "scaffold-count\n",
      "524\n",
      "count-contig\n",
      "1402\n",
      "contig-n50\n",
      "17655422\n",
      "contig-L50\n",
      "19\n",
      "contig-n75\n",
      "9688072\n",
      "contig-n90\n",
      "2759626\n",
      "scaf-L50\n",
      "12\n",
      "scaf-n75\n",
      "12763716\n",
      "scaf-n90\n",
      "6153034\n",
      "replicon-count\n",
      "34\n",
      "count-non-chromosome-replicon\n",
      "0\n",
      "count-alt-loci-units\n",
      "0\n",
      "count-regions\n",
      "0\n",
      "count-patches\n",
      "0\n",
      "ENA-LAST-UPDATED\n",
      "2018-12-05\n"
     ]
    },
    {
     "name": "stderr",
     "output_type": "stream",
     "text": [
      "/Users/cthillairajah17/anaconda3/lib/python3.7/site-packages/ipykernel_launcher.py:3: DeprecationWarning: This method will be removed in future versions.  Use 'list(elem)' or iteration over elem instead.\n",
      "  This is separate from the ipykernel package so we can avoid doing imports until\n"
     ]
    }
   ],
   "source": [
    "#b=[]\n",
    "for node in tree.findall('.//ASSEMBLY_ATTRIBUTE'):\n",
    "    for snode in node.getchildren():\n",
    "        if snode.tag == \"TAG\":\n",
    "            print(snode.text)\n",
    "            key=snode.text\n",
    "        else:\n",
    "            print(snode.text)\n",
    "            value=snode.text\n",
    "       # print(\"key is \"+key+\" and value is \"+value)\n",
    "        \n",
    "        \n",
    "#        print(snode.tag, snode.text)\n",
    "#        b.append(snode.text)\n",
    "#print(b)    "
   ]
  },
  {
   "cell_type": "code",
   "execution_count": 64,
   "metadata": {
    "kernel": "python3"
   },
   "outputs": [
    {
     "name": "stdout",
     "output_type": "stream",
     "text": [
      "['total-length', 'ungapped-length', 'n50', 'spanned-gaps', 'unspanned-gaps', 'scaffold-count', 'count-contig', 'contig-n50', 'contig-L50', 'contig-n75', 'contig-n90', 'scaf-L50', 'scaf-n75', 'scaf-n90', 'replicon-count', 'count-non-chromosome-replicon', 'count-alt-loci-units', 'count-regions', 'count-patches', 'ENA-LAST-UPDATED']\n",
      "['1065348650', '1055564190', '20785086', '878', '68', '524', '1402', '17655422', '19', '9688072', '2759626', '12', '12763716', '6153034', '34', '0', '0', '0', '0', '2018-12-05']\n"
     ]
    },
    {
     "name": "stderr",
     "output_type": "stream",
     "text": [
      "/Users/cthillairajah17/anaconda3/lib/python3.7/site-packages/ipykernel_launcher.py:3: DeprecationWarning: This method will be removed in future versions.  Use 'list(elem)' or iteration over elem instead.\n",
      "  This is separate from the ipykernel package so we can avoid doing imports until\n",
      "/Users/cthillairajah17/anaconda3/lib/python3.7/site-packages/ipykernel_launcher.py:12: DeprecationWarning: This method will be removed in future versions.  Use 'list(elem)' or iteration over elem instead.\n",
      "  if sys.path[0] == '':\n"
     ]
    }
   ],
   "source": [
    "b=[]\n",
    "for node in tree.findall('.//ASSEMBLY_ATTRIBUTE'):\n",
    "    for snode in node.getchildren():\n",
    "        if snode.tag == \"TAG\":\n",
    "           # print(snode.text)\n",
    "            key=snode.text\n",
    "            b.append(key)\n",
    "print(b)\n",
    "\n",
    "c=[]            \n",
    "for node in tree.findall('.//ASSEMBLY_ATTRIBUTE'):\n",
    "    for snode in node.getchildren():\n",
    "        if snode.tag == \"VALUE\":\n",
    "           # print(snode.text)\n",
    "            value=snode.text\n",
    "            c.append(value)\n",
    "print(c)\n",
    "            \n",
    "            #for \n",
    "#        else:\n",
    "          #  print(snode.text)\n",
    "#            value=snode.text\n",
    "#        print(\"key is \"+key+\" and value is \"+value)\n",
    "        \n",
    "        \n",
    "#        print(snode.tag, snode.text)\n",
    "#        b.append(snode.text)\n",
    "#print(b)    "
   ]
  },
  {
   "cell_type": "code",
   "execution_count": 70,
   "metadata": {
    "kernel": "python3"
   },
   "outputs": [
    {
     "name": "stdout",
     "output_type": "stream",
     "text": [
      "key is total-length and value is 1065348650\n",
      "key is ungapped-length and value is 1055564190\n",
      "key is n50 and value is 20785086\n",
      "key is spanned-gaps and value is 878\n",
      "key is unspanned-gaps and value is 68\n",
      "key is scaffold-count and value is 524\n",
      "key is count-contig and value is 1402\n",
      "key is contig-n50 and value is 17655422\n",
      "key is contig-L50 and value is 19\n",
      "key is contig-n75 and value is 9688072\n",
      "key is contig-n90 and value is 2759626\n",
      "key is scaf-L50 and value is 12\n",
      "key is scaf-n75 and value is 12763716\n",
      "key is scaf-n90 and value is 6153034\n",
      "key is replicon-count and value is 34\n",
      "key is count-non-chromosome-replicon and value is 0\n",
      "key is count-alt-loci-units and value is 0\n",
      "key is count-regions and value is 0\n",
      "key is count-patches and value is 0\n",
      "key is ENA-LAST-UPDATED and value is 2018-12-05\n"
     ]
    }
   ],
   "source": [
    "for i in range(0, len(b)):\n",
    "        #print(i)\n",
    "        #print(b[i])\n",
    "        #print(c[i])\n",
    "        \n",
    "        print(\"key is \"+b[i]+\" and value is \"+c[i])"
   ]
  },
  {
   "cell_type": "code",
   "execution_count": null,
   "metadata": {
    "kernel": "python3"
   },
   "outputs": [],
   "source": []
  }
 ],
 "metadata": {
  "kernelspec": {
   "display_name": "SoS",
   "language": "sos",
   "name": "sos"
  },
  "language_info": {
   "codemirror_mode": "sos",
   "file_extension": ".sos",
   "mimetype": "text/x-sos",
   "name": "sos",
   "nbconvert_exporter": "sos_notebook.converter.SoS_Exporter",
   "pygments_lexer": "sos"
  },
  "sos": {
   "kernels": [
    [
     "SoS",
     "sos",
     "",
     "",
     "sos"
    ],
    [
     "python3",
     "python3",
     "python",
     "",
     ""
    ]
   ],
   "panel": {
    "displayed": true,
    "height": 0
   },
   "version": "0.19.14"
  }
 },
 "nbformat": 4,
 "nbformat_minor": 2
}
