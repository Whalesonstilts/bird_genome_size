{
 "cells": [
  {
   "cell_type": "code",
   "execution_count": 32,
   "metadata": {
    "kernel": "python3"
   },
   "outputs": [],
   "source": [
    "# create element tree object \n",
    "tree = ET.parse('topnewsfeed.xml') "
   ]
  },
  {
   "cell_type": "code",
   "execution_count": 33,
   "metadata": {
    "kernel": "python3"
   },
   "outputs": [],
   "source": [
    "# importing the required modules \n",
    "import csv \n",
    "import requests \n",
    "import xml.etree.ElementTree as ET"
   ]
  },
  {
   "cell_type": "code",
   "execution_count": 34,
   "metadata": {
    "kernel": "python3"
   },
   "outputs": [],
   "source": [
    "# url of rss feed \n",
    "url = 'https://www.ebi.ac.uk/ena/data/view/GCA_000002315&display=xml'"
   ]
  },
  {
   "cell_type": "code",
   "execution_count": 35,
   "metadata": {
    "kernel": "python3"
   },
   "outputs": [],
   "source": [
    "# creating HTTP response object from given url \n",
    "resp = requests.get(url) "
   ]
  },
  {
   "cell_type": "code",
   "execution_count": 36,
   "metadata": {
    "kernel": "python3"
   },
   "outputs": [],
   "source": [
    "# saving the xml file \n",
    "with open('topnewsfeed.xml', 'wb') as f: \n",
    "    f.write(resp.content)"
   ]
  },
  {
   "cell_type": "code",
   "execution_count": 37,
   "metadata": {
    "kernel": "python3"
   },
   "outputs": [],
   "source": [
    "# create element tree object \n",
    "tree = ET.parse('topnewsfeed.xml') "
   ]
  },
  {
   "cell_type": "code",
   "execution_count": 38,
   "metadata": {
    "kernel": "python3"
   },
   "outputs": [],
   "source": [
    "# get root element \n",
    "root = tree.getroot() "
   ]
  },
  {
   "cell_type": "code",
   "execution_count": 39,
   "metadata": {
    "kernel": "python3",
    "scrolled": false
   },
   "outputs": [
    {
     "name": "stdout",
     "output_type": "stream",
     "text": [
      "ASSEMBLY {'accession': 'GCA_000002315.5', 'alias': 'GRCg6a', 'center_name': 'Genome Reference Consortium'}\n"
     ]
    }
   ],
   "source": [
    "for child in root:\n",
    "...     print(child.tag, child.attrib)"
   ]
  },
  {
   "cell_type": "code",
   "execution_count": 42,
   "metadata": {
    "kernel": "python3",
    "scrolled": false
   },
   "outputs": [
    {
     "name": "stdout",
     "output_type": "stream",
     "text": [
      "ROOT {'request': 'GCA_000002315&display=xml'}\n",
      "ASSEMBLY {'accession': 'GCA_000002315.5', 'alias': 'GRCg6a', 'center_name': 'Genome Reference Consortium'}\n",
      "IDENTIFIERS {}\n",
      "PRIMARY_ID {}\n",
      "SUBMITTER_ID {'namespace': 'Genome Reference Consortium'}\n",
      "TITLE {}\n",
      "DESCRIPTION {}\n",
      "NAME {}\n",
      "ASSEMBLY_LEVEL {}\n",
      "GENOME_REPRESENTATION {}\n",
      "TAXON {}\n",
      "TAXON_ID {}\n",
      "SCIENTIFIC_NAME {}\n",
      "COMMON_NAME {}\n",
      "SAMPLE_REF {}\n",
      "IDENTIFIERS {}\n",
      "PRIMARY_ID {}\n",
      "SECONDARY_ID {}\n",
      "STUDY_REF {}\n",
      "IDENTIFIERS {}\n",
      "PRIMARY_ID {}\n",
      "WGS_SET {}\n",
      "PREFIX {}\n",
      "VERSION {}\n",
      "CHROMOSOMES {}\n",
      "CHROMOSOME {'accession': 'CM000093.5'}\n",
      "NAME {}\n",
      "TYPE {}\n",
      "CHROMOSOME {'accession': 'CM000094.5'}\n",
      "NAME {}\n",
      "TYPE {}\n",
      "CHROMOSOME {'accession': 'CM000095.5'}\n",
      "NAME {}\n",
      "TYPE {}\n",
      "CHROMOSOME {'accession': 'CM000096.5'}\n",
      "NAME {}\n",
      "TYPE {}\n",
      "CHROMOSOME {'accession': 'CM000097.5'}\n",
      "NAME {}\n",
      "TYPE {}\n",
      "CHROMOSOME {'accession': 'CM000098.5'}\n",
      "NAME {}\n",
      "TYPE {}\n",
      "CHROMOSOME {'accession': 'CM000099.5'}\n",
      "NAME {}\n",
      "TYPE {}\n",
      "CHROMOSOME {'accession': 'CM000100.5'}\n",
      "NAME {}\n",
      "TYPE {}\n",
      "CHROMOSOME {'accession': 'CM000101.5'}\n",
      "NAME {}\n",
      "TYPE {}\n",
      "CHROMOSOME {'accession': 'CM000102.5'}\n",
      "NAME {}\n",
      "TYPE {}\n",
      "CHROMOSOME {'accession': 'CM000103.5'}\n",
      "NAME {}\n",
      "TYPE {}\n",
      "CHROMOSOME {'accession': 'CM000104.5'}\n",
      "NAME {}\n",
      "TYPE {}\n",
      "CHROMOSOME {'accession': 'CM000105.5'}\n",
      "NAME {}\n",
      "TYPE {}\n",
      "CHROMOSOME {'accession': 'CM000106.5'}\n",
      "NAME {}\n",
      "TYPE {}\n",
      "CHROMOSOME {'accession': 'CM000107.5'}\n",
      "NAME {}\n",
      "TYPE {}\n",
      "CHROMOSOME {'accession': 'CM000108.5'}\n",
      "NAME {}\n",
      "TYPE {}\n",
      "CHROMOSOME {'accession': 'CM000109.5'}\n",
      "NAME {}\n",
      "TYPE {}\n",
      "CHROMOSOME {'accession': 'CM000110.5'}\n",
      "NAME {}\n",
      "TYPE {}\n",
      "CHROMOSOME {'accession': 'CM000111.5'}\n",
      "NAME {}\n",
      "TYPE {}\n",
      "CHROMOSOME {'accession': 'CM000112.5'}\n",
      "NAME {}\n",
      "TYPE {}\n",
      "CHROMOSOME {'accession': 'CM000113.5'}\n",
      "NAME {}\n",
      "TYPE {}\n",
      "CHROMOSOME {'accession': 'CM000114.5'}\n",
      "NAME {}\n",
      "TYPE {}\n",
      "CHROMOSOME {'accession': 'CM000115.5'}\n",
      "NAME {}\n",
      "TYPE {}\n",
      "CHROMOSOME {'accession': 'CM000116.5'}\n",
      "NAME {}\n",
      "TYPE {}\n",
      "CHROMOSOME {'accession': 'CM000124.5'}\n",
      "NAME {}\n",
      "TYPE {}\n",
      "CHROMOSOME {'accession': 'CM000117.5'}\n",
      "NAME {}\n",
      "TYPE {}\n",
      "CHROMOSOME {'accession': 'CM000118.5'}\n",
      "NAME {}\n",
      "TYPE {}\n",
      "CHROMOSOME {'accession': 'CM000119.5'}\n",
      "NAME {}\n",
      "TYPE {}\n",
      "CHROMOSOME {'accession': 'CM003637.2'}\n",
      "NAME {}\n",
      "TYPE {}\n",
      "CHROMOSOME {'accession': 'CM003638.2'}\n",
      "NAME {}\n",
      "TYPE {}\n",
      "CHROMOSOME {'accession': 'CM000120.4'}\n",
      "NAME {}\n",
      "TYPE {}\n",
      "CHROMOSOME {'accession': 'CM000123.5'}\n",
      "NAME {}\n",
      "TYPE {}\n",
      "CHROMOSOME {'accession': 'CM000121.5'}\n",
      "NAME {}\n",
      "TYPE {}\n",
      "CHROMOSOME {'accession': 'CM000122.5'}\n",
      "NAME {}\n",
      "TYPE {}\n",
      "ASSEMBLY_LINKS {}\n",
      "ASSEMBLY_LINK {}\n",
      "URL_LINK {}\n",
      "LABEL {}\n",
      "URL {}\n",
      "ASSEMBLY_LINK {}\n",
      "URL_LINK {}\n",
      "LABEL {}\n",
      "URL {}\n",
      "ASSEMBLY_LINK {}\n",
      "URL_LINK {}\n",
      "LABEL {}\n",
      "URL {}\n",
      "ASSEMBLY_ATTRIBUTES {}\n",
      "ASSEMBLY_ATTRIBUTE {}\n",
      "TAG {}\n",
      "VALUE {}\n",
      "ASSEMBLY_ATTRIBUTE {}\n",
      "TAG {}\n",
      "VALUE {}\n",
      "ASSEMBLY_ATTRIBUTE {}\n",
      "TAG {}\n",
      "VALUE {}\n",
      "ASSEMBLY_ATTRIBUTE {}\n",
      "TAG {}\n",
      "VALUE {}\n",
      "ASSEMBLY_ATTRIBUTE {}\n",
      "TAG {}\n",
      "VALUE {}\n",
      "ASSEMBLY_ATTRIBUTE {}\n",
      "TAG {}\n",
      "VALUE {}\n",
      "ASSEMBLY_ATTRIBUTE {}\n",
      "TAG {}\n",
      "VALUE {}\n",
      "ASSEMBLY_ATTRIBUTE {}\n",
      "TAG {}\n",
      "VALUE {}\n",
      "ASSEMBLY_ATTRIBUTE {}\n",
      "TAG {}\n",
      "VALUE {}\n",
      "ASSEMBLY_ATTRIBUTE {}\n",
      "TAG {}\n",
      "VALUE {}\n",
      "ASSEMBLY_ATTRIBUTE {}\n",
      "TAG {}\n",
      "VALUE {}\n",
      "ASSEMBLY_ATTRIBUTE {}\n",
      "TAG {}\n",
      "VALUE {}\n",
      "ASSEMBLY_ATTRIBUTE {}\n",
      "TAG {}\n",
      "VALUE {}\n",
      "ASSEMBLY_ATTRIBUTE {}\n",
      "TAG {}\n",
      "VALUE {}\n",
      "ASSEMBLY_ATTRIBUTE {}\n",
      "TAG {}\n",
      "VALUE {}\n",
      "ASSEMBLY_ATTRIBUTE {}\n",
      "TAG {}\n",
      "VALUE {}\n",
      "ASSEMBLY_ATTRIBUTE {}\n",
      "TAG {}\n",
      "VALUE {}\n",
      "ASSEMBLY_ATTRIBUTE {}\n",
      "TAG {}\n",
      "VALUE {}\n",
      "ASSEMBLY_ATTRIBUTE {}\n",
      "TAG {}\n",
      "VALUE {}\n",
      "ASSEMBLY_ATTRIBUTE {}\n",
      "TAG {}\n",
      "VALUE {}\n"
     ]
    }
   ],
   "source": [
    "for child in root.iter():\n",
    "...     print(child.tag, child.attrib)"
   ]
  },
  {
   "cell_type": "code",
   "execution_count": 46,
   "metadata": {
    "kernel": "python3",
    "scrolled": true
   },
   "outputs": [
    {
     "name": "stdout",
     "output_type": "stream",
     "text": [
      "TAG total-length\n",
      "VALUE 1065348650\n",
      "TAG ungapped-length\n",
      "VALUE 1055564190\n",
      "TAG n50\n",
      "VALUE 20785086\n",
      "TAG spanned-gaps\n",
      "VALUE 878\n",
      "TAG unspanned-gaps\n",
      "VALUE 68\n",
      "TAG scaffold-count\n",
      "VALUE 524\n",
      "TAG count-contig\n",
      "VALUE 1402\n",
      "TAG contig-n50\n",
      "VALUE 17655422\n",
      "TAG contig-L50\n",
      "VALUE 19\n",
      "TAG contig-n75\n",
      "VALUE 9688072\n",
      "TAG contig-n90\n",
      "VALUE 2759626\n",
      "TAG scaf-L50\n",
      "VALUE 12\n",
      "TAG scaf-n75\n",
      "VALUE 12763716\n",
      "TAG scaf-n90\n",
      "VALUE 6153034\n",
      "TAG replicon-count\n",
      "VALUE 34\n",
      "TAG count-non-chromosome-replicon\n",
      "VALUE 0\n",
      "TAG count-alt-loci-units\n",
      "VALUE 0\n",
      "TAG count-regions\n",
      "VALUE 0\n",
      "TAG count-patches\n",
      "VALUE 0\n",
      "TAG ENA-LAST-UPDATED\n",
      "VALUE 2018-12-05\n"
     ]
    },
    {
     "name": "stderr",
     "output_type": "stream",
     "text": [
      "/Users/cthillairajah17/anaconda3/lib/python3.7/site-packages/ipykernel_launcher.py:2: DeprecationWarning: This method will be removed in future versions.  Use 'list(elem)' or iteration over elem instead.\n",
      "  \n"
     ]
    }
   ],
   "source": [
    "for node in tree.findall('.//ASSEMBLY_ATTRIBUTE'):\n",
    "    for snode in node.getchildren():\n",
    "        print(snode.tag, snode.text)"
   ]
  }
 ],
 "metadata": {
  "kernelspec": {
   "display_name": "SoS",
   "language": "sos",
   "name": "sos"
  },
  "language_info": {
   "codemirror_mode": "sos",
   "file_extension": ".sos",
   "mimetype": "text/x-sos",
   "name": "sos",
   "nbconvert_exporter": "sos_notebook.converter.SoS_Exporter",
   "pygments_lexer": "sos"
  },
  "sos": {
   "kernels": [
    [
     "SoS",
     "sos",
     "",
     "",
     "sos"
    ],
    [
     "python3",
     "python3",
     "python",
     "",
     ""
    ]
   ],
   "panel": {
    "displayed": true,
    "height": 0
   },
   "version": "0.19.14"
  }
 },
 "nbformat": 4,
 "nbformat_minor": 2
}
